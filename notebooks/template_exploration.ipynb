{
 "cells": [
  {
   "cell_type": "markdown",
   "metadata": {},
   "source": ["# Quick Exploration Notebook\\n\\nLoad a couple of series and plot."]
  },
  {
   "cell_type": "code",
   "metadata": {},
   "source": [
    "import pandas as pd, pathlib\\n",
    "ROOT = pathlib.Path.cwd().parents[0]\\n",
    "wb_dict = ROOT/'data/world_bank/_dictionary.csv'\\n",
    "display(pd.read_csv(wb_dict).head())"
   ],
   "execution_count": null,
   "outputs": []
  },
  {
   "cell_type": "code",
   "metadata": {},
   "source": [
    "bz_gdp = ROOT/'data/world_bank/BZ/NY.GDP.MKTP.CD.csv'\\n",
    "df = pd.read_csv(bz_gdp)\\n",
    "df.tail()"
   ],
   "execution_count": null,
   "outputs": []
  }
 ],
 "metadata": {
  "kernelspec": {"display_name": "Python 3", "language": "python", "name": "python3"},
  "language_info": {"name": "python", "version": "3.x"}
 },
 "nbformat": 4,
 "nbformat_minor": 5
}
